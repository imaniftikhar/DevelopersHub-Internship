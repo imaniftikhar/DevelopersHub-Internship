{
 "cells": [
  {
   "cell_type": "code",
   "execution_count": 3,
   "id": "54fe08f4-f8f4-40c3-a996-175e5d440aba",
   "metadata": {},
   "outputs": [],
   "source": [
    "#Import library\n",
    "import pandas as pd"
   ]
  },
  {
   "cell_type": "code",
   "execution_count": 4,
   "id": "248622aa-e5c9-4b5a-a60d-11ecc76373c4",
   "metadata": {},
   "outputs": [],
   "source": [
    "#Load the dataset\n",
    "df=pd.read_csv('email.csv')"
   ]
  },
  {
   "cell_type": "code",
   "execution_count": 5,
   "id": "2a3b6157-795a-4970-9d41-0662151520e4",
   "metadata": {},
   "outputs": [
    {
     "name": "stdout",
     "output_type": "stream",
     "text": [
      "  Category                                            Message\n",
      "0      ham  Go until jurong point, crazy.. Available only ...\n",
      "1      ham                      Ok lar... Joking wif u oni...\n",
      "2     spam  Free entry in 2 a wkly comp to win FA Cup fina...\n",
      "3      ham  U dun say so early hor... U c already then say...\n",
      "4      ham  Nah I don't think he goes to usf, he lives aro...\n"
     ]
    }
   ],
   "source": [
    "#Inspect the first few rows to understand the data structure\n",
    "print(df.head())"
   ]
  },
  {
   "cell_type": "code",
   "execution_count": 19,
   "id": "dab4b859-fb35-4f45-95b1-13699e625169",
   "metadata": {},
   "outputs": [],
   "source": [
    "#Seperating spam emails\n",
    "spam_emails = df[df['Category'] == 'spam']['Message']"
   ]
  },
  {
   "cell_type": "code",
   "execution_count": 20,
   "id": "b0bdfb14-b337-4332-a0e8-499e8433342e",
   "metadata": {},
   "outputs": [
    {
     "name": "stdout",
     "output_type": "stream",
     "text": [
      "Number of spam emails: 747\n"
     ]
    }
   ],
   "source": [
    "#Display the number of spam emails\n",
    "print(f\"Number of spam emails: {len(spam_emails)}\")"
   ]
  },
  {
   "cell_type": "code",
   "execution_count": 21,
   "id": "0baa0459-4aa9-4d7a-a2be-6d5f20a9d32b",
   "metadata": {},
   "outputs": [],
   "source": [
    "from sklearn.feature_extraction.text import CountVectorizer"
   ]
  },
  {
   "cell_type": "code",
   "execution_count": 33,
   "id": "81f67bec-831a-46ea-9219-e6c4814e7ac2",
   "metadata": {},
   "outputs": [],
   "source": [
    "specific_words = ['free','now', 'claim','offer','win', 'click','call','price', 'urgent']\n",
    "vectorizer = CountVectorizer(vocabulary=specific_words)"
   ]
  },
  {
   "cell_type": "code",
   "execution_count": 34,
   "id": "0183128e-da6d-4786-a785-b06db968f907",
   "metadata": {},
   "outputs": [],
   "source": [
    "vectors=vectorizer.fit_transform(spam_emails)"
   ]
  },
  {
   "cell_type": "code",
   "execution_count": 35,
   "id": "2e3acbb1-5e1c-4b80-ad61-d2449380f7cf",
   "metadata": {},
   "outputs": [
    {
     "data": {
      "text/plain": [
       "<Compressed Sparse Row sparse matrix of dtype 'int64'\n",
       "\twith 962 stored elements and shape (747, 9)>"
      ]
     },
     "execution_count": 35,
     "metadata": {},
     "output_type": "execute_result"
    }
   ],
   "source": [
    "vectors"
   ]
  },
  {
   "cell_type": "code",
   "execution_count": 36,
   "id": "cc5ec11e-e307-4700-ab7f-ae93c6b97726",
   "metadata": {},
   "outputs": [],
   "source": [
    "bow_spam=pd.DataFrame(vectors.toarray(), columns=vectorizer.get_feature_names_out() )"
   ]
  },
  {
   "cell_type": "code",
   "execution_count": 37,
   "id": "4379aded-3090-4e55-972c-f26d3bca5549",
   "metadata": {},
   "outputs": [
    {
     "data": {
      "text/html": [
       "<div>\n",
       "<style scoped>\n",
       "    .dataframe tbody tr th:only-of-type {\n",
       "        vertical-align: middle;\n",
       "    }\n",
       "\n",
       "    .dataframe tbody tr th {\n",
       "        vertical-align: top;\n",
       "    }\n",
       "\n",
       "    .dataframe thead th {\n",
       "        text-align: right;\n",
       "    }\n",
       "</style>\n",
       "<table border=\"1\" class=\"dataframe\">\n",
       "  <thead>\n",
       "    <tr style=\"text-align: right;\">\n",
       "      <th></th>\n",
       "      <th>free</th>\n",
       "      <th>now</th>\n",
       "      <th>claim</th>\n",
       "      <th>offer</th>\n",
       "      <th>win</th>\n",
       "      <th>click</th>\n",
       "      <th>call</th>\n",
       "      <th>price</th>\n",
       "      <th>urgent</th>\n",
       "    </tr>\n",
       "  </thead>\n",
       "  <tbody>\n",
       "    <tr>\n",
       "      <th>0</th>\n",
       "      <td>1</td>\n",
       "      <td>0</td>\n",
       "      <td>0</td>\n",
       "      <td>0</td>\n",
       "      <td>1</td>\n",
       "      <td>0</td>\n",
       "      <td>0</td>\n",
       "      <td>0</td>\n",
       "      <td>0</td>\n",
       "    </tr>\n",
       "    <tr>\n",
       "      <th>1</th>\n",
       "      <td>0</td>\n",
       "      <td>1</td>\n",
       "      <td>0</td>\n",
       "      <td>0</td>\n",
       "      <td>0</td>\n",
       "      <td>0</td>\n",
       "      <td>0</td>\n",
       "      <td>0</td>\n",
       "      <td>0</td>\n",
       "    </tr>\n",
       "    <tr>\n",
       "      <th>2</th>\n",
       "      <td>0</td>\n",
       "      <td>0</td>\n",
       "      <td>2</td>\n",
       "      <td>0</td>\n",
       "      <td>0</td>\n",
       "      <td>0</td>\n",
       "      <td>1</td>\n",
       "      <td>0</td>\n",
       "      <td>0</td>\n",
       "    </tr>\n",
       "    <tr>\n",
       "      <th>3</th>\n",
       "      <td>2</td>\n",
       "      <td>0</td>\n",
       "      <td>0</td>\n",
       "      <td>0</td>\n",
       "      <td>0</td>\n",
       "      <td>0</td>\n",
       "      <td>1</td>\n",
       "      <td>0</td>\n",
       "      <td>0</td>\n",
       "    </tr>\n",
       "    <tr>\n",
       "      <th>4</th>\n",
       "      <td>0</td>\n",
       "      <td>0</td>\n",
       "      <td>0</td>\n",
       "      <td>0</td>\n",
       "      <td>1</td>\n",
       "      <td>0</td>\n",
       "      <td>0</td>\n",
       "      <td>0</td>\n",
       "      <td>0</td>\n",
       "    </tr>\n",
       "    <tr>\n",
       "      <th>...</th>\n",
       "      <td>...</td>\n",
       "      <td>...</td>\n",
       "      <td>...</td>\n",
       "      <td>...</td>\n",
       "      <td>...</td>\n",
       "      <td>...</td>\n",
       "      <td>...</td>\n",
       "      <td>...</td>\n",
       "      <td>...</td>\n",
       "    </tr>\n",
       "    <tr>\n",
       "      <th>742</th>\n",
       "      <td>0</td>\n",
       "      <td>1</td>\n",
       "      <td>0</td>\n",
       "      <td>0</td>\n",
       "      <td>0</td>\n",
       "      <td>0</td>\n",
       "      <td>0</td>\n",
       "      <td>0</td>\n",
       "      <td>0</td>\n",
       "    </tr>\n",
       "    <tr>\n",
       "      <th>743</th>\n",
       "      <td>1</td>\n",
       "      <td>0</td>\n",
       "      <td>0</td>\n",
       "      <td>0</td>\n",
       "      <td>0</td>\n",
       "      <td>0</td>\n",
       "      <td>0</td>\n",
       "      <td>0</td>\n",
       "      <td>0</td>\n",
       "    </tr>\n",
       "    <tr>\n",
       "      <th>744</th>\n",
       "      <td>1</td>\n",
       "      <td>0</td>\n",
       "      <td>0</td>\n",
       "      <td>0</td>\n",
       "      <td>0</td>\n",
       "      <td>0</td>\n",
       "      <td>0</td>\n",
       "      <td>0</td>\n",
       "      <td>0</td>\n",
       "    </tr>\n",
       "    <tr>\n",
       "      <th>745</th>\n",
       "      <td>1</td>\n",
       "      <td>0</td>\n",
       "      <td>0</td>\n",
       "      <td>0</td>\n",
       "      <td>0</td>\n",
       "      <td>0</td>\n",
       "      <td>1</td>\n",
       "      <td>0</td>\n",
       "      <td>0</td>\n",
       "    </tr>\n",
       "    <tr>\n",
       "      <th>746</th>\n",
       "      <td>0</td>\n",
       "      <td>0</td>\n",
       "      <td>1</td>\n",
       "      <td>0</td>\n",
       "      <td>0</td>\n",
       "      <td>0</td>\n",
       "      <td>1</td>\n",
       "      <td>0</td>\n",
       "      <td>0</td>\n",
       "    </tr>\n",
       "  </tbody>\n",
       "</table>\n",
       "<p>747 rows × 9 columns</p>\n",
       "</div>"
      ],
      "text/plain": [
       "     free  now  claim  offer  win  click  call  price  urgent\n",
       "0       1    0      0      0    1      0     0      0       0\n",
       "1       0    1      0      0    0      0     0      0       0\n",
       "2       0    0      2      0    0      0     1      0       0\n",
       "3       2    0      0      0    0      0     1      0       0\n",
       "4       0    0      0      0    1      0     0      0       0\n",
       "..    ...  ...    ...    ...  ...    ...   ...    ...     ...\n",
       "742     0    1      0      0    0      0     0      0       0\n",
       "743     1    0      0      0    0      0     0      0       0\n",
       "744     1    0      0      0    0      0     0      0       0\n",
       "745     1    0      0      0    0      0     1      0       0\n",
       "746     0    0      1      0    0      0     1      0       0\n",
       "\n",
       "[747 rows x 9 columns]"
      ]
     },
     "execution_count": 37,
     "metadata": {},
     "output_type": "execute_result"
    }
   ],
   "source": [
    "bow_spam"
   ]
  },
  {
   "cell_type": "code",
   "execution_count": 38,
   "id": "8e6fba4e-9b07-47bc-a276-57e2b1e661c6",
   "metadata": {},
   "outputs": [],
   "source": [
    "word_count=bow_spam.sum(axis=0)"
   ]
  },
  {
   "cell_type": "code",
   "execution_count": 39,
   "id": "ac309d79-794f-4efa-9254-2ee804c683c0",
   "metadata": {},
   "outputs": [
    {
     "data": {
      "text/plain": [
       "free      224\n",
       "now       199\n",
       "claim     111\n",
       "offer      27\n",
       "win        64\n",
       "click       5\n",
       "call      352\n",
       "price      17\n",
       "urgent     62\n",
       "dtype: int64"
      ]
     },
     "execution_count": 39,
     "metadata": {},
     "output_type": "execute_result"
    }
   ],
   "source": [
    "word_count"
   ]
  },
  {
   "cell_type": "code",
   "execution_count": 40,
   "id": "6921663e-59b5-4b56-a406-c9f9ebad5e80",
   "metadata": {},
   "outputs": [],
   "source": [
    "word_count_df=pd.DataFrame(word_count, columns=['counts']).sort_values(by='counts',ascending=False)"
   ]
  },
  {
   "cell_type": "code",
   "execution_count": 41,
   "id": "810beec4-7a9a-4517-a04f-e93c1ad9765e",
   "metadata": {},
   "outputs": [],
   "source": [
    "word_count_df=word_count_df.head(20)"
   ]
  },
  {
   "cell_type": "code",
   "execution_count": 42,
   "id": "d73dc273-a1ee-44be-a826-ef4b9330c9a1",
   "metadata": {},
   "outputs": [],
   "source": [
    "import matplotlib.pyplot as plt"
   ]
  },
  {
   "cell_type": "code",
   "execution_count": 43,
   "id": "e4543f1e-452a-4f8d-82cd-9448ea10392d",
   "metadata": {},
   "outputs": [
    {
     "data": {
      "image/png": "[encoded data removed]",
      "text/plain": [
       "<Figure size 1000x600 with 1 Axes>"
      ]
     },
     "metadata": {},
     "output_type": "display_data"
    }
   ],
   "source": [
    "plt.figure(figsize=(10,6))\n",
    "plt.bar(word_count_df.index,word_count_df['counts'] )\n",
    "plt.xlabel('words')\n",
    "plt.ylabel('Total Count')\n",
    "plt.title('Total Countingf Bar Graph')\n",
    "plt.xticks(rotation=45)\n",
    "plt.show()"
   ]
  },
  {
   "cell_type": "code",
   "execution_count": null,
   "id": "9f829b32-fd99-4fa1-8d76-3fa123f62709",
   "metadata": {},
   "outputs": [],
   "source": []
  }
 ],
 "metadata": {
  "kernelspec": {
   "display_name": "Python 3 (ipykernel)",
   "language": "python",
   "name": "python3"
  },
  "language_info": {
   "codemirror_mode": {
    "name": "ipython",
    "version": 3
   },
   "file_extension": ".py",
   "mimetype": "text/x-python",
   "name": "python",
   "nbconvert_exporter": "python",
   "pygments_lexer": "ipython3",
   "version": "3.12.4"
  }
 },
 "nbformat": 4,
 "nbformat_minor": 5
}
